{
 "cells": [
  {
   "cell_type": "markdown",
   "metadata": {},
   "source": [
    "**To do**\n",
    "* train-test split\n",
    "* evaluation\n",
    "* docstrings\n",
    "* readme"
   ]
  },
  {
   "cell_type": "code",
   "execution_count": 3,
   "metadata": {
    "scrolled": true
   },
   "outputs": [],
   "source": [
    "import sys\n",
    "sys.path.append(\"../mlp-general\")\n",
    "from mlp import MLP"
   ]
  },
  {
   "cell_type": "code",
   "execution_count": 4,
   "metadata": {
    "scrolled": false
   },
   "outputs": [
    {
     "name": "stdout",
     "output_type": "stream",
     "text": [
      "Epoch 1/10\n",
      "20000/20000 [==============================] - 2s 84us/step - loss: 0.6845\n",
      "Epoch 2/10\n",
      "20000/20000 [==============================] - 1s 75us/step - loss: 0.2746\n",
      "Epoch 3/10\n",
      "20000/20000 [==============================] - 2s 76us/step - loss: 0.2300\n",
      "Epoch 4/10\n",
      "20000/20000 [==============================] - 1s 75us/step - loss: 0.2079\n",
      "Epoch 5/10\n",
      "20000/20000 [==============================] - 2s 75us/step - loss: 0.1933\n",
      "Epoch 6/10\n",
      "20000/20000 [==============================] - 2s 79us/step - loss: 0.1831\n",
      "Epoch 7/10\n",
      "20000/20000 [==============================] - 1s 74us/step - loss: 0.1748\n",
      "Epoch 8/10\n",
      "20000/20000 [==============================] - 1s 74us/step - loss: 0.1692\n",
      "Epoch 9/10\n",
      "20000/20000 [==============================] - 2s 75us/step - loss: 0.1653\n",
      "Epoch 10/10\n",
      "20000/20000 [==============================] - 2s 81us/step - loss: 0.1609\n",
      "_________________________________________________________________\n",
      "Layer (type)                 Output Shape              Param #   \n",
      "=================================================================\n",
      "dense_3 (Dense)              multiple                  102500    \n",
      "_________________________________________________________________\n",
      "dense_4 (Dense)              multiple                  10100     \n",
      "_________________________________________________________________\n",
      "dense_5 (Dense)              multiple                  303       \n",
      "=================================================================\n",
      "Total params: 112,903\n",
      "Trainable params: 112,903\n",
      "Non-trainable params: 0\n",
      "_________________________________________________________________\n"
     ]
    }
   ],
   "source": [
    "nn = MLP(1024, 3, [100, 100])\n",
    "nn.load_data('../examples/ANN-input-data.csv', 'TRIMER', ['IP', 'EA', 'GAP'])\n",
    "nn.fingerprint(fp_type='morgan')\n",
    "nn.build_network()\n",
    "nn.train()"
   ]
  },
  {
   "cell_type": "code",
   "execution_count": null,
   "metadata": {
    "collapsed": true
   },
   "outputs": [],
   "source": []
  }
 ],
 "metadata": {
  "kernelspec": {
   "display_name": "Python 3",
   "language": "python",
   "name": "python3"
  },
  "language_info": {
   "codemirror_mode": {
    "name": "ipython",
    "version": 3
   },
   "file_extension": ".py",
   "mimetype": "text/x-python",
   "name": "python",
   "nbconvert_exporter": "python",
   "pygments_lexer": "ipython3",
   "version": "3.6.3"
  }
 },
 "nbformat": 4,
 "nbformat_minor": 2
}
