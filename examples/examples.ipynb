{
 "cells": [
  {
   "cell_type": "markdown",
   "metadata": {},
   "source": [
    "**To do**\n",
    "* evaluation\n",
    "* docstrings\n",
    "* readme"
   ]
  },
  {
   "cell_type": "code",
   "execution_count": 3,
   "metadata": {
    "scrolled": true
   },
   "outputs": [],
   "source": [
    "import sys\n",
    "sys.path.append(\"../mlp-general\")\n",
    "from mlp import MLP"
   ]
  },
  {
   "cell_type": "code",
   "execution_count": 4,
   "metadata": {
    "scrolled": false
   },
   "outputs": [
    {
     "name": "stdout",
     "output_type": "stream",
     "text": [
      "Epoch 1/10\n",
      "1000/1000 [==============================] - 0s 293us/step - loss: 4.0654\n",
      "Epoch 2/10\n",
      "1000/1000 [==============================] - 0s 93us/step - loss: 2.2455\n",
      "Epoch 3/10\n",
      "1000/1000 [==============================] - 0s 90us/step - loss: 0.6119\n",
      "Epoch 4/10\n",
      "1000/1000 [==============================] - 0s 94us/step - loss: 0.5314\n",
      "Epoch 5/10\n",
      "1000/1000 [==============================] - 0s 94us/step - loss: 0.4880\n",
      "Epoch 6/10\n",
      "1000/1000 [==============================] - 0s 88us/step - loss: 0.4552\n",
      "Epoch 7/10\n",
      "1000/1000 [==============================] - 0s 92us/step - loss: 0.4279\n",
      "Epoch 8/10\n",
      "1000/1000 [==============================] - 0s 94us/step - loss: 0.4042\n",
      "Epoch 9/10\n",
      "1000/1000 [==============================] - 0s 91us/step - loss: 0.3824\n",
      "Epoch 10/10\n",
      "1000/1000 [==============================] - 0s 92us/step - loss: 0.3642\n",
      "_________________________________________________________________\n",
      "Layer (type)                 Output Shape              Param #   \n",
      "=================================================================\n",
      "dense_3 (Dense)              multiple                  102500    \n",
      "_________________________________________________________________\n",
      "dense_4 (Dense)              multiple                  10100     \n",
      "_________________________________________________________________\n",
      "dense_5 (Dense)              multiple                  303       \n",
      "=================================================================\n",
      "Total params: 112,903\n",
      "Trainable params: 112,903\n",
      "Non-trainable params: 0\n",
      "_________________________________________________________________\n"
     ]
    }
   ],
   "source": [
    "nn = MLP(1024, 3, [100, 100])\n",
    "nn.load_data('../examples/ANN-input-data.csv', 'TRIMER', ['IP', 'EA', 'GAP'])\n",
    "nn.fingerprint(test_frac=0.5)\n",
    "nn.build_network()\n",
    "nn.train()"
   ]
  },
  {
   "cell_type": "code",
   "execution_count": null,
   "metadata": {
    "collapsed": true
   },
   "outputs": [],
   "source": []
  },
  {
   "cell_type": "code",
   "execution_count": null,
   "metadata": {
    "collapsed": true
   },
   "outputs": [],
   "source": []
  }
 ],
 "metadata": {
  "kernelspec": {
   "display_name": "Python 3",
   "language": "python",
   "name": "python3"
  },
  "language_info": {
   "codemirror_mode": {
    "name": "ipython",
    "version": 3
   },
   "file_extension": ".py",
   "mimetype": "text/x-python",
   "name": "python",
   "nbconvert_exporter": "python",
   "pygments_lexer": "ipython3",
   "version": "3.6.3"
  }
 },
 "nbformat": 4,
 "nbformat_minor": 2
}
