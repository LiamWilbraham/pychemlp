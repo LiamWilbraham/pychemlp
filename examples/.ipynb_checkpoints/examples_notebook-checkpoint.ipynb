{
 "cells": [
  {
   "cell_type": "code",
   "execution_count": 3,
   "metadata": {
    "scrolled": true
   },
   "outputs": [],
   "source": [
    "from pychemlp import MLP"
   ]
  },
  {
   "cell_type": "markdown",
   "metadata": {},
   "source": [
    "## Construct & Train Neural Network"
   ]
  },
  {
   "cell_type": "code",
   "execution_count": 2,
   "metadata": {
    "collapsed": true,
    "scrolled": false
   },
   "outputs": [],
   "source": [
    "nn = MLP()\n",
    "nn.load_data('example_data.pkl', 'TRIMER', ['IP (eV)', 'EA (eV)', 'Excitation Energy (eV)'], from_pkl=True)\n",
    "nn.fingerprint(bits=2048, rad=2, test_frac=0.3)\n",
    "nn.build_network(2, 256, dropout=0.5)\n",
    "nn.train()\n",
    "y, pred, mae, rmse = nn.evaluate()"
   ]
  },
  {
   "cell_type": "markdown",
   "metadata": {},
   "source": [
    "## Random hyperparameter search"
   ]
  },
  {
   "cell_type": "code",
   "execution_count": null,
   "metadata": {
    "collapsed": true
   },
   "outputs": [],
   "source": [
    "search_space = {'dropout': [0.1, 0.2, 0.3, 0.4, 0.5],\n",
    "                'input_dropout': [0.1, 0.2, 0.3, 0.4, 0.5],\n",
    "                'n_layers': [1, 2, 3, 4],\n",
    "                'n_neurons': [32, 64, 128, 256, 512],\n",
    "                'learning_rate': [0.1, 0.01, 0.001],\n",
    "                'batch_size': [32, 64, 128, 256]}\n",
    "\n",
    "nn = MLP()\n",
    "nn.load_data('./example_data.pkl', 'TRIMER', ['IP (eV)', 'EA (eV)', 'Excitation Energy (eV)'], from_pkl=True)\n",
    "nn.fingerprint(bits=2048, rad=2, test_frac=0.3)\n",
    "nn.hyperparam_opt_random(search_space, 20, epochs=20)"
   ]
  }
 ],
 "metadata": {
  "kernelspec": {
   "display_name": "Python 3",
   "language": "python",
   "name": "python3"
  },
  "language_info": {
   "codemirror_mode": {
    "name": "ipython",
    "version": 3
   },
   "file_extension": ".py",
   "mimetype": "text/x-python",
   "name": "python",
   "nbconvert_exporter": "python",
   "pygments_lexer": "ipython3",
   "version": "3.6.2"
  }
 },
 "nbformat": 4,
 "nbformat_minor": 2
}
