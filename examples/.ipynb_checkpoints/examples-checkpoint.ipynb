{
 "cells": [
  {
   "cell_type": "code",
   "execution_count": 1,
   "metadata": {
    "scrolled": true
   },
   "outputs": [
    {
     "name": "stderr",
     "output_type": "stream",
     "text": [
      "/home/liam/anaconda3/lib/python3.6/site-packages/h5py/__init__.py:34: FutureWarning: Conversion of the second argument of issubdtype from `float` to `np.floating` is deprecated. In future, it will be treated as `np.float64 == np.dtype(float).type`.\n",
      "  from ._conv import register_converters as _register_converters\n"
     ]
    }
   ],
   "source": [
    "%load_ext autoreload\n",
    "%autoreload 2\n",
    "\n",
    "from pychemlp import MLP"
   ]
  },
  {
   "cell_type": "code",
   "execution_count": 2,
   "metadata": {
    "collapsed": true,
    "scrolled": false
   },
   "outputs": [],
   "source": [
    "nn = MLP()\n",
    "nn.load_data('example_data.pkl', 'TRIMER', ['IP (eV)', 'EA (eV)', 'Excitation Energy (eV)'], from_pkl=True)\n",
    "nn.data.head()"
   ]
  },
  {
   "cell_type": "code",
   "execution_count": 3,
   "metadata": {
    "collapsed": true
   },
   "outputs": [],
   "source": [
    "nn.fingerprint(bits=2048, rad=2, test_frac=0.3)\n",
    "nn.build_network(2, 256, dropout=0.5, input_dropout=0.5)\n",
    "nn.train(batch_size=32, epochs=10, optimizer='adam')\n",
    "y, pred, mae, rmse = nn.evaluate()\n",
    "plot(y, pred)"
   ]
  },
  {
   "cell_type": "markdown",
   "metadata": {},
   "source": [
    "### Random hyperparameter search"
   ]
  },
  {
   "cell_type": "code",
   "execution_count": null,
   "metadata": {
    "collapsed": true
   },
   "outputs": [],
   "source": [
    "search_space = {'dropout': [0.1, 0.2, 0.3, 0.4, 0.5],\n",
    "                'input_dropout': [0.1, 0.2, 0.3, 0.4, 0.5],\n",
    "                'n_layers': [1, 2, 3, 4],\n",
    "                'n_neurons': [32, 64, 128, 256, 512],\n",
    "                'learning_rate': [0.1, 0.01, 0.001],\n",
    "                'batch_size': [32, 64, 128, 256]}\n",
    "\n",
    "nn = MLP()\n",
    "nn.load_data('./enriched_training.pkl', 'TRIMER', ['IP (eV)', 'EA (eV)', 'Excitation Energy (eV)'], from_pkl=True)\n",
    "nn.fingerprint(bits=2048, rad=2, test_frac=0.3)"
   ]
  },
  {
   "cell_type": "code",
   "execution_count": null,
   "metadata": {
    "scrolled": false
   },
   "outputs": [
    {
     "name": "stdout",
     "output_type": "stream",
     "text": [
      "Iteration : 000, RMSE: 0.4232\n",
      "Iteration : 001, RMSE: 0.1464\n",
      "Iteration : 002, RMSE: 4.2117\n",
      "Iteration : 003, RMSE: 0.3939\n"
     ]
    }
   ],
   "source": [
    "nn.hyperparam_opt_random(search_space, 100, epochs=20)"
   ]
  },
  {
   "cell_type": "code",
   "execution_count": null,
   "metadata": {
    "collapsed": true
   },
   "outputs": [],
   "source": []
  },
  {
   "cell_type": "code",
   "execution_count": null,
   "metadata": {
    "collapsed": true
   },
   "outputs": [],
   "source": []
  },
  {
   "cell_type": "code",
   "execution_count": null,
   "metadata": {
    "collapsed": true
   },
   "outputs": [],
   "source": []
  },
  {
   "cell_type": "code",
   "execution_count": null,
   "metadata": {
    "collapsed": true
   },
   "outputs": [],
   "source": []
  },
  {
   "cell_type": "code",
   "execution_count": 7,
   "metadata": {
    "collapsed": true
   },
   "outputs": [],
   "source": [
    "import matplotlib.pyplot as plt\n",
    "import numpy as np\n",
    "from matplotlib.colors import LogNorm\n",
    "\n",
    "def plot(y, pred):\n",
    "\n",
    "    fig, ax = plt.subplots(1, 2, figsize=(10, 4))\n",
    "\n",
    "    pot_pred = np.vstack([pred[:,0], pred[:,1]])\n",
    "    gap_pred = pred[:,2]\n",
    "    pot_test = np.vstack([y[:,0], y[:,1]])\n",
    "    gap_test = y[:,2]\n",
    "\n",
    "    ax[0].hexbin(pot_pred, pot_test, mincnt=1, cmap='Reds', norm=LogNorm())\n",
    "    ax[1].hexbin(gap_pred, gap_test, mincnt=1, cmap='Reds', norm=LogNorm())\n",
    "    \n",
    "    #ax[1].set_ylim(1.2, 4.2)\n",
    "    #ax[1].set_xlim(1.2, 4.2)\n",
    "    plt.show()"
   ]
  },
  {
   "cell_type": "code",
   "execution_count": null,
   "metadata": {
    "collapsed": true
   },
   "outputs": [],
   "source": []
  }
 ],
 "metadata": {
  "kernelspec": {
   "display_name": "Python 3",
   "language": "python",
   "name": "python3"
  },
  "language_info": {
   "codemirror_mode": {
    "name": "ipython",
    "version": 3
   },
   "file_extension": ".py",
   "mimetype": "text/x-python",
   "name": "python",
   "nbconvert_exporter": "python",
   "pygments_lexer": "ipython3",
   "version": "3.6.2"
  }
 },
 "nbformat": 4,
 "nbformat_minor": 2
}
